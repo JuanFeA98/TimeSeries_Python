{
 "cells": [
  {
   "cell_type": "markdown",
   "id": "17ac9e09",
   "metadata": {},
   "source": [
    "# Series de Tiempo"
   ]
  },
  {
   "cell_type": "markdown",
   "id": "586fcbe5",
   "metadata": {},
   "source": [
    "## Librerias"
   ]
  },
  {
   "cell_type": "markdown",
   "id": "29b97711",
   "metadata": {},
   "source": [
    "**Scipy Stack**"
   ]
  },
  {
   "cell_type": "code",
   "execution_count": 1,
   "id": "e685d73a",
   "metadata": {},
   "outputs": [],
   "source": [
    "import pandas as pd\n",
    "import numpy as np\n",
    "import matplotlib.pyplot as plt\n",
    "import seaborn as sns\n",
    "import statsmodels"
   ]
  },
  {
   "cell_type": "markdown",
   "id": "f9cc0bd9",
   "metadata": {},
   "source": [
    "**Scikit Learn**"
   ]
  },
  {
   "cell_type": "code",
   "execution_count": 5,
   "id": "1eefbde8",
   "metadata": {},
   "outputs": [],
   "source": [
    "import sklearn"
   ]
  },
  {
   "cell_type": "markdown",
   "id": "a623b7f0",
   "metadata": {},
   "source": [
    "## Pronostico de Series de Tiempo"
   ]
  },
  {
   "cell_type": "markdown",
   "id": "7a177f59",
   "metadata": {},
   "source": [
    "Una serie de tiempo es un grupo de observaciones que tienen secuencia en el tiempo."
   ]
  },
  {
   "cell_type": "markdown",
   "id": "1564dbc4",
   "metadata": {},
   "source": [
    "**Notación**\n",
    "- **t - n**: Un momento anterior (t-1 para el periodo anterior)\n",
    "- **t**: El momento actual o punto de referencia\n",
    "- **t + n**: Un momento posterior (t+1 para el periodo siguiente)"
   ]
  },
  {
   "cell_type": "markdown",
   "id": "c11376b6",
   "metadata": {},
   "source": [
    "Tenemos dos opciones cuando trabajamos con series de tiempo:\n",
    "<ol>\n",
    "    <li>\n",
    "        <strong>Análisis de series de tiempo.</strong>\n",
    "        <p>\n",
    "        En este caso, una serie de tiempo es modelada para determinar sus componentes en terminos de patrones de estacionalidad, tendencias, relación con factores externos, etc.\n",
    "        </p>\n",
    "    </li>\n",
    "    <li>\n",
    "        <strong>Pronostico de series de tiempo.</strong>\n",
    "        <p>\n",
    "        En este caso, se usa la información de la serie de tiempo para predecir futuros valores de la misma.\n",
    "        </p>\n",
    "    </li>\n",
    "</ol>\n"
   ]
  },
  {
   "cell_type": "markdown",
   "id": "79964153",
   "metadata": {},
   "source": [
    "### Componentes de una serie de tiempo"
   ]
  },
  {
   "cell_type": "markdown",
   "id": "7b217e49",
   "metadata": {},
   "source": [
    "<ul>\n",
    "    <li>\n",
    "        <strong>Nivel.</strong> Es el valor base de la serie de tiempo \n",
    "    </li>\n",
    "    <li>\n",
    "        <strong>Tendencia.</strong> Es el comportamiento creciente o decreciente de la serie a lo largo del tiempo.\n",
    "    </li>\n",
    "    <li>\n",
    "        <strong>Estacionalidad.</strong> Son los patrones de comportamiento repetidos a lo largo de la serie temporal.\n",
    "    </li>\n",
    "    <li>\n",
    "        <strong>Ruido.</strong> Es la variabilidad que no puede ser explicada en el modelo\n",
    "    </li>\n",
    "</ul>\n",
    "\n"
   ]
  },
  {
   "cell_type": "code",
   "execution_count": 9,
   "id": "6485b53e",
   "metadata": {},
   "outputs": [
    {
     "data": {
      "text/html": [
       "<div>\n",
       "<style scoped>\n",
       "    .dataframe tbody tr th:only-of-type {\n",
       "        vertical-align: middle;\n",
       "    }\n",
       "\n",
       "    .dataframe tbody tr th {\n",
       "        vertical-align: top;\n",
       "    }\n",
       "\n",
       "    .dataframe thead th {\n",
       "        text-align: right;\n",
       "    }\n",
       "</style>\n",
       "<table border=\"1\" class=\"dataframe\">\n",
       "  <thead>\n",
       "    <tr style=\"text-align: right;\">\n",
       "      <th></th>\n",
       "      <th>0</th>\n",
       "      <th>1</th>\n",
       "    </tr>\n",
       "  </thead>\n",
       "  <tbody>\n",
       "    <tr>\n",
       "      <th>0</th>\n",
       "      <td>1</td>\n",
       "      <td>100</td>\n",
       "    </tr>\n",
       "    <tr>\n",
       "      <th>1</th>\n",
       "      <td>2</td>\n",
       "      <td>110</td>\n",
       "    </tr>\n",
       "    <tr>\n",
       "      <th>2</th>\n",
       "      <td>3</td>\n",
       "      <td>108</td>\n",
       "    </tr>\n",
       "    <tr>\n",
       "      <th>3</th>\n",
       "      <td>4</td>\n",
       "      <td>115</td>\n",
       "    </tr>\n",
       "    <tr>\n",
       "      <th>4</th>\n",
       "      <td>5</td>\n",
       "      <td>120</td>\n",
       "    </tr>\n",
       "  </tbody>\n",
       "</table>\n",
       "</div>"
      ],
      "text/plain": [
       "   0    1\n",
       "0  1  100\n",
       "1  2  110\n",
       "2  3  108\n",
       "3  4  115\n",
       "4  5  120"
      ]
     },
     "execution_count": 9,
     "metadata": {},
     "output_type": "execute_result"
    }
   ],
   "source": [
    "pd.DataFrame([[1,2,3,4,5], [100, 110, 108, 115, 120]]).transpose()"
   ]
  },
  {
   "cell_type": "code",
   "execution_count": null,
   "id": "8c67d243",
   "metadata": {},
   "outputs": [],
   "source": [
    "\n"
   ]
  },
  {
   "cell_type": "code",
   "execution_count": null,
   "id": "02b4d224",
   "metadata": {},
   "outputs": [],
   "source": []
  },
  {
   "cell_type": "code",
   "execution_count": null,
   "id": "02b53e94",
   "metadata": {},
   "outputs": [],
   "source": []
  }
 ],
 "metadata": {
  "kernelspec": {
   "display_name": "Python 3",
   "language": "python",
   "name": "python3"
  },
  "language_info": {
   "codemirror_mode": {
    "name": "ipython",
    "version": 3
   },
   "file_extension": ".py",
   "mimetype": "text/x-python",
   "name": "python",
   "nbconvert_exporter": "python",
   "pygments_lexer": "ipython3",
   "version": "3.9.5"
  }
 },
 "nbformat": 4,
 "nbformat_minor": 5
}
