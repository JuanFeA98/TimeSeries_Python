{
 "cells": [
  {
   "cell_type": "markdown",
   "metadata": {},
   "source": [
    "# Introducción a las Series de Tiempo"
   ]
  },
  {
   "cell_type": "markdown",
   "metadata": {},
   "source": [
    "## Configuración inicial"
   ]
  },
  {
   "cell_type": "markdown",
   "metadata": {},
   "source": [
    "### Cargamos nuestras librerias"
   ]
  },
  {
   "cell_type": "code",
   "execution_count": 1,
   "metadata": {
    "ExecuteTime": {
     "end_time": "2021-05-08T14:14:19.236280Z",
     "start_time": "2021-05-08T14:14:15.325586Z"
    }
   },
   "outputs": [],
   "source": [
    "import pandas as pd\n",
    "import numpy as np\n",
    "import matplotlib.pylab as plt"
   ]
  },
  {
   "cell_type": "code",
   "execution_count": 2,
   "metadata": {
    "ExecuteTime": {
     "end_time": "2021-05-08T14:14:20.076761Z",
     "start_time": "2021-05-08T14:14:20.071220Z"
    }
   },
   "outputs": [],
   "source": [
    "from datetime import datetime"
   ]
  },
  {
   "cell_type": "markdown",
   "metadata": {},
   "source": [
    "### Cargamos y preparamos los datos"
   ]
  },
  {
   "cell_type": "code",
   "execution_count": 3,
   "metadata": {
    "ExecuteTime": {
     "end_time": "2021-05-08T14:14:22.299291Z",
     "start_time": "2021-05-08T14:14:21.836370Z"
    }
   },
   "outputs": [],
   "source": [
    "df = pd.read_csv('./Data/AirPassengers.csv')"
   ]
  },
  {
   "cell_type": "code",
   "execution_count": 4,
   "metadata": {
    "ExecuteTime": {
     "end_time": "2021-05-08T14:14:23.409552Z",
     "start_time": "2021-05-08T14:14:23.391149Z"
    }
   },
   "outputs": [
    {
     "data": {
      "text/plain": [
       "Month          object\n",
       "#Passengers     int64\n",
       "dtype: object"
      ]
     },
     "execution_count": 4,
     "metadata": {},
     "output_type": "execute_result"
    }
   ],
   "source": [
    "df.dtypes"
   ]
  },
  {
   "cell_type": "markdown",
   "metadata": {},
   "source": [
    "## Trabajando con Series de Tiempo"
   ]
  },
  {
   "cell_type": "markdown",
   "metadata": {},
   "source": [
    "#### Ajustamos el formato de los datos"
   ]
  },
  {
   "cell_type": "code",
   "execution_count": 5,
   "metadata": {
    "ExecuteTime": {
     "end_time": "2021-05-08T14:14:26.427257Z",
     "start_time": "2021-05-08T14:14:26.333366Z"
    }
   },
   "outputs": [],
   "source": [
    "df['Month'] = pd.to_datetime(df['Month'])"
   ]
  },
  {
   "cell_type": "markdown",
   "metadata": {
    "ExecuteTime": {
     "end_time": "2021-05-08T04:44:48.537573Z",
     "start_time": "2021-05-08T04:44:48.518990Z"
    }
   },
   "source": [
    "#### Ajustamos el indice de nuestro dataset"
   ]
  },
  {
   "cell_type": "code",
   "execution_count": 6,
   "metadata": {
    "ExecuteTime": {
     "end_time": "2021-05-08T14:14:28.844451Z",
     "start_time": "2021-05-08T14:14:28.697159Z"
    }
   },
   "outputs": [],
   "source": [
    "df.set_index('Month', inplace=True)"
   ]
  },
  {
   "cell_type": "code",
   "execution_count": 7,
   "metadata": {
    "ExecuteTime": {
     "end_time": "2021-05-08T14:14:30.179526Z",
     "start_time": "2021-05-08T14:14:30.159011Z"
    }
   },
   "outputs": [
    {
     "data": {
      "text/html": [
       "<div>\n",
       "<style scoped>\n",
       "    .dataframe tbody tr th:only-of-type {\n",
       "        vertical-align: middle;\n",
       "    }\n",
       "\n",
       "    .dataframe tbody tr th {\n",
       "        vertical-align: top;\n",
       "    }\n",
       "\n",
       "    .dataframe thead th {\n",
       "        text-align: right;\n",
       "    }\n",
       "</style>\n",
       "<table border=\"1\" class=\"dataframe\">\n",
       "  <thead>\n",
       "    <tr style=\"text-align: right;\">\n",
       "      <th></th>\n",
       "      <th>#Passengers</th>\n",
       "    </tr>\n",
       "    <tr>\n",
       "      <th>Month</th>\n",
       "      <th></th>\n",
       "    </tr>\n",
       "  </thead>\n",
       "  <tbody>\n",
       "    <tr>\n",
       "      <th>1949-01-01</th>\n",
       "      <td>112</td>\n",
       "    </tr>\n",
       "    <tr>\n",
       "      <th>1949-02-01</th>\n",
       "      <td>118</td>\n",
       "    </tr>\n",
       "    <tr>\n",
       "      <th>1949-03-01</th>\n",
       "      <td>132</td>\n",
       "    </tr>\n",
       "    <tr>\n",
       "      <th>1949-04-01</th>\n",
       "      <td>129</td>\n",
       "    </tr>\n",
       "    <tr>\n",
       "      <th>1949-05-01</th>\n",
       "      <td>121</td>\n",
       "    </tr>\n",
       "  </tbody>\n",
       "</table>\n",
       "</div>"
      ],
      "text/plain": [
       "            #Passengers\n",
       "Month                  \n",
       "1949-01-01          112\n",
       "1949-02-01          118\n",
       "1949-03-01          132\n",
       "1949-04-01          129\n",
       "1949-05-01          121"
      ]
     },
     "execution_count": 7,
     "metadata": {},
     "output_type": "execute_result"
    }
   ],
   "source": [
    "df.head()"
   ]
  },
  {
   "cell_type": "markdown",
   "metadata": {},
   "source": [
    "#### Convertimos nuestro dataframe en una serie de tiempo"
   ]
  },
  {
   "cell_type": "code",
   "execution_count": 8,
   "metadata": {
    "ExecuteTime": {
     "end_time": "2021-05-08T14:14:32.660913Z",
     "start_time": "2021-05-08T14:14:32.655615Z"
    }
   },
   "outputs": [],
   "source": [
    "ts = df['#Passengers']"
   ]
  },
  {
   "cell_type": "code",
   "execution_count": 9,
   "metadata": {
    "ExecuteTime": {
     "end_time": "2021-05-08T14:14:34.633978Z",
     "start_time": "2021-05-08T14:14:34.443324Z"
    }
   },
   "outputs": [
    {
     "data": {
      "text/plain": [
       "112"
      ]
     },
     "execution_count": 9,
     "metadata": {},
     "output_type": "execute_result"
    }
   ],
   "source": [
    "# Consultando por el indice\n",
    "ts['1949-01-01']"
   ]
  },
  {
   "cell_type": "code",
   "execution_count": 10,
   "metadata": {
    "ExecuteTime": {
     "end_time": "2021-05-08T14:14:37.118020Z",
     "start_time": "2021-05-08T14:14:37.102158Z"
    }
   },
   "outputs": [
    {
     "data": {
      "text/plain": [
       "112"
      ]
     },
     "execution_count": 10,
     "metadata": {},
     "output_type": "execute_result"
    }
   ],
   "source": [
    "# Consultar utilizando la libreria datetime\n",
    "ts[datetime(1949,1,1)]"
   ]
  },
  {
   "cell_type": "code",
   "execution_count": 11,
   "metadata": {
    "ExecuteTime": {
     "end_time": "2021-05-08T14:14:38.686575Z",
     "start_time": "2021-05-08T14:14:38.634631Z"
    }
   },
   "outputs": [
    {
     "data": {
      "text/plain": [
       "Month\n",
       "1949-01-01    112\n",
       "1949-02-01    118\n",
       "1949-03-01    132\n",
       "1949-04-01    129\n",
       "1949-05-01    121\n",
       "1949-06-01    135\n",
       "1949-07-01    148\n",
       "1949-08-01    148\n",
       "1949-09-01    136\n",
       "1949-10-01    119\n",
       "1949-11-01    104\n",
       "1949-12-01    118\n",
       "Name: #Passengers, dtype: int64"
      ]
     },
     "execution_count": 11,
     "metadata": {},
     "output_type": "execute_result"
    }
   ],
   "source": [
    "# Consultar un rango de fechas\n",
    "ts['1949-01-01':'1949-12-01']"
   ]
  },
  {
   "cell_type": "code",
   "execution_count": 12,
   "metadata": {
    "ExecuteTime": {
     "end_time": "2021-05-08T14:14:40.288594Z",
     "start_time": "2021-05-08T14:14:40.274072Z"
    }
   },
   "outputs": [
    {
     "data": {
      "text/plain": [
       "Month\n",
       "1949-01-01    112\n",
       "1949-02-01    118\n",
       "1949-03-01    132\n",
       "1949-04-01    129\n",
       "1949-05-01    121\n",
       "Name: #Passengers, dtype: int64"
      ]
     },
     "execution_count": 12,
     "metadata": {},
     "output_type": "execute_result"
    }
   ],
   "source": [
    "# Traer un rango hasta una fecha concreta\n",
    "ts[:'1949-05-01']"
   ]
  },
  {
   "cell_type": "code",
   "execution_count": 13,
   "metadata": {
    "ExecuteTime": {
     "end_time": "2021-05-08T14:14:42.152266Z",
     "start_time": "2021-05-08T14:14:42.140289Z"
    }
   },
   "outputs": [
    {
     "data": {
      "text/plain": [
       "Month\n",
       "1949-01-01    112\n",
       "1949-02-01    118\n",
       "1949-03-01    132\n",
       "1949-04-01    129\n",
       "1949-05-01    121\n",
       "1949-06-01    135\n",
       "1949-07-01    148\n",
       "1949-08-01    148\n",
       "1949-09-01    136\n",
       "1949-10-01    119\n",
       "1949-11-01    104\n",
       "1949-12-01    118\n",
       "Name: #Passengers, dtype: int64"
      ]
     },
     "execution_count": 13,
     "metadata": {},
     "output_type": "execute_result"
    }
   ],
   "source": [
    "# Traer todos los datos de un año\n",
    "ts['1949']"
   ]
  },
  {
   "cell_type": "markdown",
   "metadata": {},
   "source": [
    "\n",
    "## Estacionariedad"
   ]
  },
  {
   "cell_type": "code",
   "execution_count": 14,
   "metadata": {
    "ExecuteTime": {
     "end_time": "2021-05-08T14:14:45.635190Z",
     "start_time": "2021-05-08T14:14:45.273030Z"
    }
   },
   "outputs": [
    {
     "data": {
      "text/plain": [
       "[<matplotlib.lines.Line2D at 0x1deda50dfa0>]"
      ]
     },
     "execution_count": 14,
     "metadata": {},
     "output_type": "execute_result"
    },
    {
     "data": {
      "image/png": "[encoded data removed]",
      "text/plain": [
       "<Figure size 1080x576 with 1 Axes>"
      ]
     },
     "metadata": {
      "needs_background": "light"
     },
     "output_type": "display_data"
    }
   ],
   "source": [
    "plt.figure(figsize=(15,8))\n",
    "plt.plot(ts)"
   ]
  },
  {
   "cell_type": "markdown",
   "metadata": {},
   "source": [
    "### El test de Dickey-Fuller"
   ]
  },
  {
   "cell_type": "code",
   "execution_count": 15,
   "metadata": {
    "ExecuteTime": {
     "end_time": "2021-05-08T14:14:51.964243Z",
     "start_time": "2021-05-08T14:14:49.137788Z"
    }
   },
   "outputs": [],
   "source": [
    "from statsmodels.tsa.stattools import adfuller"
   ]
  },
  {
   "cell_type": "code",
   "execution_count": 53,
   "metadata": {
    "ExecuteTime": {
     "end_time": "2021-05-08T14:22:19.081175Z",
     "start_time": "2021-05-08T14:22:19.066504Z"
    }
   },
   "outputs": [],
   "source": [
    "def rolling_MS(timeseries):\n",
    "    rolmean = timeseries.rolling(12, center=True).mean()\n",
    "    rolstd = timeseries.rolling(12, center=True).std()\n",
    "\n",
    "    plt.plot(timeseries, color='blue', label='Original')\n",
    "    plt.plot(rolmean, color='red', label ='Media Movil')\n",
    "    plt.plot(rolstd, color='green', label=\"Std Movil\")\n",
    "    plt.legend(loc='best')\n",
    "    plt.title('Media Movil y Std Movil')"
   ]
  },
  {
   "cell_type": "code",
   "execution_count": 54,
   "metadata": {
    "ExecuteTime": {
     "end_time": "2021-05-08T14:22:23.371923Z",
     "start_time": "2021-05-08T14:22:23.137069Z"
    }
   },
   "outputs": [
    {
     "data": {
      "image/png": "[encoded data removed]",
      "text/plain": [
       "<Figure size 432x288 with 1 Axes>"
      ]
     },
     "metadata": {
      "needs_background": "light"
     },
     "output_type": "display_data"
    }
   ],
   "source": [
    "rolling_MS(ts)"
   ]
  },
  {
   "cell_type": "code",
   "execution_count": 73,
   "metadata": {
    "ExecuteTime": {
     "end_time": "2021-05-08T14:34:49.556591Z",
     "start_time": "2021-05-08T14:34:49.548249Z"
    }
   },
   "outputs": [],
   "source": [
    "def test_DF(timeseries):\n",
    "    dftest = adfuller(timeseries, autolag='AIC')\n",
    "    dfoutput = pd.Series(dftest[0:4], index=['Test Statistic',\n",
    "                                             'p-value',\n",
    "                                             '# Lags',\n",
    "                                             'Number of Observations'])\n",
    "    for key, value in dftest[4].items():\n",
    "        dfoutput['Critical value (%s)'%key] = value\n",
    "        \n",
    "    print(dfoutput)"
   ]
  },
  {
   "cell_type": "code",
   "execution_count": 74,
   "metadata": {
    "ExecuteTime": {
     "end_time": "2021-05-08T14:34:50.124509Z",
     "start_time": "2021-05-08T14:34:50.063186Z"
    }
   },
   "outputs": [
    {
     "name": "stdout",
     "output_type": "stream",
     "text": [
      "Test Statistic              0.815369\n",
      "p-value                     0.991880\n",
      "# Lags                     13.000000\n",
      "Number of Observations    130.000000\n",
      "Critical value (1%)        -3.481682\n",
      "Critical value (5%)        -2.884042\n",
      "Critical value (10%)       -2.578770\n",
      "dtype: float64\n"
     ]
    }
   ],
   "source": [
    "test_DF(ts)"
   ]
  },
  {
   "cell_type": "code",
   "execution_count": 95,
   "metadata": {
    "ExecuteTime": {
     "end_time": "2021-05-08T14:43:07.732035Z",
     "start_time": "2021-05-08T14:43:07.718193Z"
    }
   },
   "outputs": [],
   "source": [
    "prub = pd.DataFrame(columns=['Const','Const y Tend', 'Const y Tend Cuad-Lin', 'Sin Const ni Tend'])\n"
   ]
  },
  {
   "cell_type": "code",
   "execution_count": 102,
   "metadata": {
    "ExecuteTime": {
     "end_time": "2021-05-08T14:43:47.794087Z",
     "start_time": "2021-05-08T14:43:47.778552Z"
    }
   },
   "outputs": [],
   "source": [
    "prub[0] = [1,2,4,5]"
   ]
  },
  {
   "cell_type": "code",
   "execution_count": 103,
   "metadata": {
    "ExecuteTime": {
     "end_time": "2021-05-08T14:43:48.492737Z",
     "start_time": "2021-05-08T14:43:48.467337Z"
    }
   },
   "outputs": [
    {
     "data": {
      "text/html": [
       "<div>\n",
       "<style scoped>\n",
       "    .dataframe tbody tr th:only-of-type {\n",
       "        vertical-align: middle;\n",
       "    }\n",
       "\n",
       "    .dataframe tbody tr th {\n",
       "        vertical-align: top;\n",
       "    }\n",
       "\n",
       "    .dataframe thead th {\n",
       "        text-align: right;\n",
       "    }\n",
       "</style>\n",
       "<table border=\"1\" class=\"dataframe\">\n",
       "  <thead>\n",
       "    <tr style=\"text-align: right;\">\n",
       "      <th></th>\n",
       "      <th>Const</th>\n",
       "      <th>Const y Tend</th>\n",
       "      <th>Const y Tend Cuad-Lin</th>\n",
       "      <th>Sin Const ni Tend</th>\n",
       "      <th>0</th>\n",
       "    </tr>\n",
       "  </thead>\n",
       "  <tbody>\n",
       "    <tr>\n",
       "      <th>0</th>\n",
       "      <td>1</td>\n",
       "      <td>NaN</td>\n",
       "      <td>NaN</td>\n",
       "      <td>NaN</td>\n",
       "      <td>1</td>\n",
       "    </tr>\n",
       "    <tr>\n",
       "      <th>1</th>\n",
       "      <td>2</td>\n",
       "      <td>NaN</td>\n",
       "      <td>NaN</td>\n",
       "      <td>NaN</td>\n",
       "      <td>2</td>\n",
       "    </tr>\n",
       "    <tr>\n",
       "      <th>2</th>\n",
       "      <td>4</td>\n",
       "      <td>NaN</td>\n",
       "      <td>NaN</td>\n",
       "      <td>NaN</td>\n",
       "      <td>4</td>\n",
       "    </tr>\n",
       "    <tr>\n",
       "      <th>3</th>\n",
       "      <td>5</td>\n",
       "      <td>NaN</td>\n",
       "      <td>NaN</td>\n",
       "      <td>NaN</td>\n",
       "      <td>5</td>\n",
       "    </tr>\n",
       "  </tbody>\n",
       "</table>\n",
       "</div>"
      ],
      "text/plain": [
       "   Const Const y Tend Const y Tend Cuad-Lin Sin Const ni Tend  0\n",
       "0      1          NaN                   NaN               NaN  1\n",
       "1      2          NaN                   NaN               NaN  2\n",
       "2      4          NaN                   NaN               NaN  4\n",
       "3      5          NaN                   NaN               NaN  5"
      ]
     },
     "execution_count": 103,
     "metadata": {},
     "output_type": "execute_result"
    }
   ],
   "source": [
    "prub"
   ]
  },
  {
   "cell_type": "code",
   "execution_count": 143,
   "metadata": {
    "ExecuteTime": {
     "end_time": "2021-05-08T14:49:47.654012Z",
     "start_time": "2021-05-08T14:49:47.631383Z"
    }
   },
   "outputs": [],
   "source": [
    "wf = pd.DataFrame(columns=['Const','Const y Tend', 'Const y Tend Cuad-Lin', 'Sin Const ni Tend'])\n",
    "\n",
    "def test_DF2(timeseries):\n",
    "    models = ['c', 'ct', 'ctt', 'nc']\n",
    "    for i in range(4):\n",
    "        dftest = adfuller(timeseries, autolag='AIC', regression=models[i])\n",
    "        dfoutput = pd.Series(dftest[0:4], index=['Test Statistic',\n",
    "                                                 'p-value',\n",
    "                                                 '# Lags',\n",
    "                                                 'Number of Observations'])\n",
    "        for key, value in dftest[4].items():\n",
    "            dfoutput['Critical value (%s)'%key] = value\n",
    "        wf[i] = dfoutput\n",
    "#     return(dfoutput)"
   ]
  },
  {
   "cell_type": "code",
   "execution_count": 144,
   "metadata": {
    "ExecuteTime": {
     "end_time": "2021-05-08T14:49:49.766451Z",
     "start_time": "2021-05-08T14:49:49.695045Z"
    }
   },
   "outputs": [],
   "source": [
    "prueba = test_DF2(ts)"
   ]
  },
  {
   "cell_type": "code",
   "execution_count": 146,
   "metadata": {
    "ExecuteTime": {
     "end_time": "2021-05-08T14:50:01.743023Z",
     "start_time": "2021-05-08T14:50:01.721101Z"
    }
   },
   "outputs": [
    {
     "data": {
      "text/html": [
       "<div>\n",
       "<style scoped>\n",
       "    .dataframe tbody tr th:only-of-type {\n",
       "        vertical-align: middle;\n",
       "    }\n",
       "\n",
       "    .dataframe tbody tr th {\n",
       "        vertical-align: top;\n",
       "    }\n",
       "\n",
       "    .dataframe thead th {\n",
       "        text-align: right;\n",
       "    }\n",
       "</style>\n",
       "<table border=\"1\" class=\"dataframe\">\n",
       "  <thead>\n",
       "    <tr style=\"text-align: right;\">\n",
       "      <th></th>\n",
       "      <th>Const</th>\n",
       "      <th>Const y Tend</th>\n",
       "      <th>Const y Tend Cuad-Lin</th>\n",
       "      <th>Sin Const ni Tend</th>\n",
       "      <th>0</th>\n",
       "      <th>1</th>\n",
       "      <th>2</th>\n",
       "      <th>3</th>\n",
       "    </tr>\n",
       "  </thead>\n",
       "  <tbody>\n",
       "    <tr>\n",
       "      <th>Test Statistic</th>\n",
       "      <td>NaN</td>\n",
       "      <td>NaN</td>\n",
       "      <td>NaN</td>\n",
       "      <td>NaN</td>\n",
       "      <td>0.815369</td>\n",
       "      <td>-2.100782</td>\n",
       "      <td>-3.233678</td>\n",
       "      <td>2.390602</td>\n",
       "    </tr>\n",
       "    <tr>\n",
       "      <th>p-value</th>\n",
       "      <td>NaN</td>\n",
       "      <td>NaN</td>\n",
       "      <td>NaN</td>\n",
       "      <td>NaN</td>\n",
       "      <td>0.991880</td>\n",
       "      <td>0.545659</td>\n",
       "      <td>0.195942</td>\n",
       "      <td>0.997180</td>\n",
       "    </tr>\n",
       "    <tr>\n",
       "      <th># Lags</th>\n",
       "      <td>NaN</td>\n",
       "      <td>NaN</td>\n",
       "      <td>NaN</td>\n",
       "      <td>NaN</td>\n",
       "      <td>13.000000</td>\n",
       "      <td>13.000000</td>\n",
       "      <td>13.000000</td>\n",
       "      <td>13.000000</td>\n",
       "    </tr>\n",
       "    <tr>\n",
       "      <th>Number of Observations</th>\n",
       "      <td>NaN</td>\n",
       "      <td>NaN</td>\n",
       "      <td>NaN</td>\n",
       "      <td>NaN</td>\n",
       "      <td>130.000000</td>\n",
       "      <td>130.000000</td>\n",
       "      <td>130.000000</td>\n",
       "      <td>130.000000</td>\n",
       "    </tr>\n",
       "    <tr>\n",
       "      <th>Critical value (1%)</th>\n",
       "      <td>NaN</td>\n",
       "      <td>NaN</td>\n",
       "      <td>NaN</td>\n",
       "      <td>NaN</td>\n",
       "      <td>-3.481682</td>\n",
       "      <td>-4.030152</td>\n",
       "      <td>-4.462542</td>\n",
       "      <td>-2.583153</td>\n",
       "    </tr>\n",
       "    <tr>\n",
       "      <th>Critical value (5%)</th>\n",
       "      <td>NaN</td>\n",
       "      <td>NaN</td>\n",
       "      <td>NaN</td>\n",
       "      <td>NaN</td>\n",
       "      <td>-2.884042</td>\n",
       "      <td>-3.444818</td>\n",
       "      <td>-3.878611</td>\n",
       "      <td>-1.943251</td>\n",
       "    </tr>\n",
       "    <tr>\n",
       "      <th>Critical value (10%)</th>\n",
       "      <td>NaN</td>\n",
       "      <td>NaN</td>\n",
       "      <td>NaN</td>\n",
       "      <td>NaN</td>\n",
       "      <td>-2.578770</td>\n",
       "      <td>-3.147182</td>\n",
       "      <td>-3.581753</td>\n",
       "      <td>-1.614926</td>\n",
       "    </tr>\n",
       "  </tbody>\n",
       "</table>\n",
       "</div>"
      ],
      "text/plain": [
       "                       Const Const y Tend Const y Tend Cuad-Lin  \\\n",
       "Test Statistic           NaN          NaN                   NaN   \n",
       "p-value                  NaN          NaN                   NaN   \n",
       "# Lags                   NaN          NaN                   NaN   \n",
       "Number of Observations   NaN          NaN                   NaN   \n",
       "Critical value (1%)      NaN          NaN                   NaN   \n",
       "Critical value (5%)      NaN          NaN                   NaN   \n",
       "Critical value (10%)     NaN          NaN                   NaN   \n",
       "\n",
       "                       Sin Const ni Tend           0           1           2  \\\n",
       "Test Statistic                       NaN    0.815369   -2.100782   -3.233678   \n",
       "p-value                              NaN    0.991880    0.545659    0.195942   \n",
       "# Lags                               NaN   13.000000   13.000000   13.000000   \n",
       "Number of Observations               NaN  130.000000  130.000000  130.000000   \n",
       "Critical value (1%)                  NaN   -3.481682   -4.030152   -4.462542   \n",
       "Critical value (5%)                  NaN   -2.884042   -3.444818   -3.878611   \n",
       "Critical value (10%)                 NaN   -2.578770   -3.147182   -3.581753   \n",
       "\n",
       "                                 3  \n",
       "Test Statistic            2.390602  \n",
       "p-value                   0.997180  \n",
       "# Lags                   13.000000  \n",
       "Number of Observations  130.000000  \n",
       "Critical value (1%)      -2.583153  \n",
       "Critical value (5%)      -1.943251  \n",
       "Critical value (10%)     -1.614926  "
      ]
     },
     "execution_count": 146,
     "metadata": {},
     "output_type": "execute_result"
    }
   ],
   "source": [
    "wf"
   ]
  },
  {
   "cell_type": "code",
   "execution_count": 145,
   "metadata": {
    "ExecuteTime": {
     "end_time": "2021-05-08T14:49:52.323077Z",
     "start_time": "2021-05-08T14:49:52.314552Z"
    }
   },
   "outputs": [],
   "source": [
    "prueba"
   ]
  },
  {
   "cell_type": "code",
   "execution_count": 139,
   "metadata": {
    "ExecuteTime": {
     "end_time": "2021-05-08T14:48:06.706448Z",
     "start_time": "2021-05-08T14:48:06.681277Z"
    }
   },
   "outputs": [
    {
     "data": {
      "text/html": [
       "<div>\n",
       "<style scoped>\n",
       "    .dataframe tbody tr th:only-of-type {\n",
       "        vertical-align: middle;\n",
       "    }\n",
       "\n",
       "    .dataframe tbody tr th {\n",
       "        vertical-align: top;\n",
       "    }\n",
       "\n",
       "    .dataframe thead th {\n",
       "        text-align: right;\n",
       "    }\n",
       "</style>\n",
       "<table border=\"1\" class=\"dataframe\">\n",
       "  <thead>\n",
       "    <tr style=\"text-align: right;\">\n",
       "      <th></th>\n",
       "      <th>0</th>\n",
       "    </tr>\n",
       "  </thead>\n",
       "  <tbody>\n",
       "    <tr>\n",
       "      <th>Test Statistic</th>\n",
       "      <td>0.815369</td>\n",
       "    </tr>\n",
       "    <tr>\n",
       "      <th>p-value</th>\n",
       "      <td>0.991880</td>\n",
       "    </tr>\n",
       "    <tr>\n",
       "      <th># Lags</th>\n",
       "      <td>13.000000</td>\n",
       "    </tr>\n",
       "    <tr>\n",
       "      <th>Number of Observations</th>\n",
       "      <td>130.000000</td>\n",
       "    </tr>\n",
       "    <tr>\n",
       "      <th>Critical value (1%)</th>\n",
       "      <td>-3.481682</td>\n",
       "    </tr>\n",
       "    <tr>\n",
       "      <th>Critical value (5%)</th>\n",
       "      <td>-2.884042</td>\n",
       "    </tr>\n",
       "    <tr>\n",
       "      <th>Critical value (10%)</th>\n",
       "      <td>-2.578770</td>\n",
       "    </tr>\n",
       "  </tbody>\n",
       "</table>\n",
       "</div>"
      ],
      "text/plain": [
       "                                 0\n",
       "Test Statistic            0.815369\n",
       "p-value                   0.991880\n",
       "# Lags                   13.000000\n",
       "Number of Observations  130.000000\n",
       "Critical value (1%)      -3.481682\n",
       "Critical value (5%)      -2.884042\n",
       "Critical value (10%)     -2.578770"
      ]
     },
     "execution_count": 139,
     "metadata": {},
     "output_type": "execute_result"
    }
   ],
   "source": [
    "pd.DataFrame(prueba)"
   ]
  },
  {
   "cell_type": "code",
   "execution_count": 140,
   "metadata": {
    "ExecuteTime": {
     "end_time": "2021-05-08T14:48:15.081159Z",
     "start_time": "2021-05-08T14:48:15.075393Z"
    }
   },
   "outputs": [],
   "source": [
    "jumm = pd.DataFrame"
   ]
  }
 ],
 "metadata": {
  "kernelspec": {
   "display_name": "Python 3",
   "language": "python",
   "name": "python3"
  },
  "language_info": {
   "codemirror_mode": {
    "name": "ipython",
    "version": 3
   },
   "file_extension": ".py",
   "mimetype": "text/x-python",
   "name": "python",
   "nbconvert_exporter": "python",
   "pygments_lexer": "ipython3",
   "version": "3.8.5"
  },
  "toc": {
   "base_numbering": 1,
   "nav_menu": {},
   "number_sections": true,
   "sideBar": true,
   "skip_h1_title": false,
   "title_cell": "Table of Contents",
   "title_sidebar": "Contents",
   "toc_cell": false,
   "toc_position": {},
   "toc_section_display": true,
   "toc_window_display": false
  },
  "varInspector": {
   "cols": {
    "lenName": 16,
    "lenType": 16,
    "lenVar": 40
   },
   "kernels_config": {
    "python": {
     "delete_cmd_postfix": "",
     "delete_cmd_prefix": "del ",
     "library": "var_list.py",
     "varRefreshCmd": "print(var_dic_list())"
    },
    "r": {
     "delete_cmd_postfix": ") ",
     "delete_cmd_prefix": "rm(",
     "library": "var_list.r",
     "varRefreshCmd": "cat(var_dic_list()) "
    }
   },
   "types_to_exclude": [
    "module",
    "function",
    "builtin_function_or_method",
    "instance",
    "_Feature"
   ],
   "window_display": false
  }
 },
 "nbformat": 4,
 "nbformat_minor": 4
}
